{
 "cells": [
  {
   "cell_type": "code",
   "execution_count": null,
   "metadata": {},
   "outputs": [],
   "source": [
    "import pandas as pd\n",
    "import numpy as np\n",
    "import matplotlib.pyplot as plt\n",
    "%matplotlib inline\n",
    "\n",
    "\n",
    "df = pd.read_csv(\"data.txt\", header = None)\n",
    "k =  #(num_of_clusters) #use elbow method\n",
    "MaxIters = 300\n",
    "\n",
    "#generate random centroids\n",
    "centroids = {\n",
    "    i+1: [np.random.randint(0,X_max), np.random.randint(0,y_max)]\n",
    "    for i in range(k)\n",
    "}\n",
    "\n",
    "\n",
    "#calculate distance and assign close points\n",
    "def assign(df,centroids):\n",
    "    for i in centroids.keys():\n",
    "        #sqqrt((x1-x2)^2 - (y1-y1)^2)\n",
    "        df['distance_from_{}'.format(i)] = (np.sqrt((df[0] - centroids[i][0]) **2 \n",
    "        + (df[1] - centroids[i][1]) **2))\n",
    "    centroid_distance_cols = ['distance_from_{}'.format(i) for i in centroids.keys()]\n",
    "    df['closest'] = df.loc[:, centroid_distance_cols].idxmin(axis=1)\n",
    "    df['closest'] = df['closest'].map(lambda x: int(x.lstrip('distance_from_')))\n",
    "    df['color'] = df['closest'].map(lambda x: colmap[x])\n",
    "    return df\n",
    "df = assign(df, centroids)\n",
    "print(df.head())\n",
    "\n",
    "def update(k):\n",
    "    for i in centroids.keys():\n",
    "        centroids[i][0] = np.mean(df[df['closest'] == i][0])\n",
    "        centroids[i][1] = np.mean(df[df['closest'] == i][1])\n",
    "    return k\n",
    "\n",
    "iter = 0\n",
    "while True and iter<=MaxIters:\n",
    "    closest_centroids = df['closest'].copy(deep=True)\n",
    "    centroids = update(centroids)\n",
    "    df = assign(df, centroids)\n",
    "    if closest_centroids.equals(df['closest']):\n",
    "        break\n",
    "    iter += 1  "
   ]
  }
 ],
 "metadata": {
  "kernelspec": {
   "display_name": "Python 3",
   "language": "python",
   "name": "python3"
  },
  "language_info": {
   "codemirror_mode": {
    "name": "ipython",
    "version": 3
   },
   "file_extension": ".py",
   "mimetype": "text/x-python",
   "name": "python",
   "nbconvert_exporter": "python",
   "pygments_lexer": "ipython3",
   "version": "3.7.6"
  }
 },
 "nbformat": 4,
 "nbformat_minor": 2
}
