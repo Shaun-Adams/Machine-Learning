{
 "cells": [
  {
   "cell_type": "code",
   "execution_count": null,
   "metadata": {},
   "outputs": [],
   "source": [
    "import pandas as pd"
   ]
  },
  {
   "cell_type": "code",
   "execution_count": null,
   "metadata": {},
   "outputs": [],
   "source": [
    "#!usr/bin/python3\n",
    "\n",
    "import random\n",
    "studentno = int(input('Please enter your student number: '))\n",
    "random.seed(studentno % 10000)\n",
    "col1 = [random.randint(0,studentno) for i in range(0,200)]\n",
    "random.seed(studentno % 1000)\n",
    "col2 = [random.randint(0,studentno) for i in range(0,200)]\n",
    "sdata = open('data.txt', 'w')\n",
    "[print(\"%s , %s \" % (str(col1[i]), str(col2[i])), file = sdata) for i in range(0, 200)]\n",
    "\n",
    "sdata = open('data.txt', mode = 'r')\n",
    "data = sdata.read()\n",
    "df = pd.read_csv(\"data.txt\", header = 'Data')\n",
    "\n"
   ]
  },
  {
   "cell_type": "code",
   "execution_count": null,
   "metadata": {},
   "outputs": [],
   "source": [
    "\n",
    "import matplotlib.pyplot as plt\n",
    "%matplotlib inline\n",
    "\n",
    "plt.scatter(df[0], df[1])"
   ]
  },
  {
   "cell_type": "code",
   "execution_count": null,
   "metadata": {},
   "outputs": [],
   "source": [
    "import numpy as np\n",
    "k = 4\n",
    "centroids = {\n",
    "    i+1: [np.random.randint(0,4000000), np.random.randint(0,4000000)]\n",
    "    for i in range(k)\n",
    "}\n",
    "centroids"
   ]
  },
  {
   "cell_type": "code",
   "execution_count": null,
   "metadata": {},
   "outputs": [],
   "source": [
    "fig = plt.figure(figsize=(12,12))\n",
    "plt.scatter(df[0],df[1], color='k')\n",
    "colmap = {1: 'r', 2: 'g', 3: 'b', 4: 'y'}\n",
    "for i in centroids.keys():\n",
    "    plt.scatter(*centroids[i], color=colmap[i])\n",
    "plt.xlim(0,4000000)\n",
    "plt.ylim(0,4000000)\n",
    "plt.show()"
   ]
  },
  {
   "cell_type": "code",
   "execution_count": null,
   "metadata": {},
   "outputs": [],
   "source": [
    "#calculate distance \n",
    "def assign(df,centroids):\n",
    "    for i in centroids.keys():\n",
    "        #sqqrt((x1-x2)^2 - (y1-y1)^2)\n",
    "        df['distance_from_{}'.format(i)] = (np.sqrt((df[0] - centroids[i][0]) **2 \n",
    "        + (df[1] - centroids[i][1]) **2))\n",
    "    centroid_distance_cols = ['distance_from_{}'.format(i) for i in centroids.keys()]\n",
    "    df['closest'] = df.loc[:, centroid_distance_cols].idxmin(axis=1)\n",
    "    df['closest'] = df['closest'].map(lambda x: int(x.lstrip('distance_from_')))\n",
    "    df['color'] = df['closest'].map(lambda x: colmap[x])\n",
    "    return df\n",
    "df = assign(df, centroids)\n",
    "print(df.head())\n"
   ]
  },
  {
   "cell_type": "code",
   "execution_count": null,
   "metadata": {},
   "outputs": [],
   "source": [
    "fig = plt.figure(figsize=(12,12))\n",
    "plt.scatter(df[0],df[1], color=df['color'], alpha =0.5, edgecolor='k')\n",
    "for i in centroids.keys():\n",
    "    plt.scatter(*centroids[i],color=colmap[i])\n",
    "plt.xlim(0,4000000)\n",
    "plt.ylim(0,4000000)\n",
    "plt.show()"
   ]
  },
  {
   "cell_type": "code",
   "execution_count": null,
   "metadata": {},
   "outputs": [],
   "source": [
    "def update(k):\n",
    "    for i in centroids.keys():\n",
    "        centroids[i][0] = np.mean(df[df['closest'] == i][0])\n",
    "        centroids[i][1] = np.mean(df[df['closest'] == i][1])\n",
    "    return k\n"
   ]
  },
  {
   "cell_type": "code",
   "execution_count": null,
   "metadata": {},
   "outputs": [],
   "source": [
    "while True:\n",
    "    closest_centroids = df['closest'].copy(deep=True)\n",
    "    centroids = update(centroids)\n",
    "    df = assign(df, centroids)\n",
    "    if closest_centroids.equals(df['closest']):\n",
    "        break\n",
    "        \n",
    "fig = plt.figure(figsize =(12,12))\n",
    "plt.scatter(df[0], df[1], color=df['color'], alpha =0.5, edgecolor='k')\n",
    "for i in centroids.keys():\n",
    "    plt.scatter(*centroids[i],color=colmap[i])\n",
    "plt.xlim(0,4000000)\n",
    "plt.ylim(0,4000000)\n",
    "plt.show()"
   ]
  },
  {
   "cell_type": "code",
   "execution_count": null,
   "metadata": {},
   "outputs": [],
   "source": []
  },
  {
   "cell_type": "code",
   "execution_count": null,
   "metadata": {},
   "outputs": [],
   "source": []
  }
 ],
 "metadata": {
  "kernelspec": {
   "display_name": "Python 3",
   "language": "python",
   "name": "python3"
  },
  "language_info": {
   "codemirror_mode": {
    "name": "ipython",
    "version": 3
   },
   "file_extension": ".py",
   "mimetype": "text/x-python",
   "name": "python",
   "nbconvert_exporter": "python",
   "pygments_lexer": "ipython3",
   "version": "3.7.6"
  }
 },
 "nbformat": 4,
 "nbformat_minor": 2
}
